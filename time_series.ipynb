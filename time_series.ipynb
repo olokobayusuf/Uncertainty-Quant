{
 "nbformat": 4,
 "nbformat_minor": 2,
 "metadata": {
  "language_info": {
   "name": "python",
   "codemirror_mode": {
    "name": "ipython",
    "version": 3
   },
   "version": "3.6.5-final"
  },
  "orig_nbformat": 2,
  "file_extension": ".py",
  "mimetype": "text/x-python",
  "name": "python",
  "npconvert_exporter": "python",
  "pygments_lexer": "ipython3",
  "version": 3,
  "kernelspec": {
   "name": "python36564bit19053807de3b44f894d4c8758c328f67",
   "display_name": "Python 3.6.5 64-bit"
  }
 },
 "cells": [
  {
   "cell_type": "markdown",
   "metadata": {},
   "source": [
    "# Time Series Analysis"
   ]
  },
  {
   "cell_type": "markdown",
   "metadata": {},
   "source": [
    "## Predicting Future Values\n",
    "First, we will show that $\\hat{u}(t+m)$ is the minimizer of:\n",
    "$$ \\mathbb{E}[ \\vert u(t+m) - \\hat{u}(t+m) \\vert^2 ] $$\n",
    "\n",
    "In other words:\n",
    "$$ \\hat{u}(t+m) = \\mathbb{E}[ u(t+m)\\ \\vert\\ u(t-n), \\ldots, u(t-1) ] $$\n",
    "\n",
    "**INCOMPLETE**"
   ]
  },
  {
   "cell_type": "markdown",
   "metadata": {},
   "source": [
    "## Stationary Stochastic Processes\n",
    "\n",
    "We will compute the covariance matrices of the following stochastic system:\n",
    "$$ du = -udt + dw $$\n",
    "\n",
    "We will evaluate this system using the Euler-Marayama scheme:"
   ]
  },
  {
   "cell_type": "code",
   "execution_count": 1,
   "metadata": {},
   "outputs": [],
   "source": [
    "from numpy.random import normal\n",
    "from typing import Callable\n",
    "\n",
    "def euler_murayama_update (\n",
    "    position,           # u, float\n",
    "    forcing_term,       # a, callable\n",
    "    timestep,           # n, int\n",
    "    timescale,          # dt, float\n",
    "    chaos=1.            # used to dampen or strengthen Brownian term\n",
    "):\n",
    "    return position + forcing_term(timestep * timescale, position) * timescale + chaos * normal(loc=0., scale=timescale)"
   ]
  },
  {
   "cell_type": "code",
   "execution_count": null,
   "metadata": {},
   "outputs": [],
   "source": []
  }
 ]
}