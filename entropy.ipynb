{
 "nbformat": 4,
 "nbformat_minor": 2,
 "metadata": {
  "language_info": {
   "name": "python",
   "codemirror_mode": {
    "name": "ipython",
    "version": 3
   },
   "version": "3.6.5-final"
  },
  "orig_nbformat": 2,
  "file_extension": ".py",
  "mimetype": "text/x-python",
  "name": "python",
  "npconvert_exporter": "python",
  "pygments_lexer": "ipython3",
  "version": 3,
  "kernelspec": {
   "name": "python36564bit19053807de3b44f894d4c8758c328f67",
   "display_name": "Python 3.6.5 64-bit"
  }
 },
 "cells": [
  {
   "cell_type": "markdown",
   "execution_count": null,
   "metadata": {},
   "outputs": [],
   "source": [
    "# Entropy"
   ]
  },
  {
   "cell_type": "markdown",
   "execution_count": null,
   "metadata": {},
   "outputs": [],
   "source": [
    "## Entropy Chain Rule\n",
    "\n",
    "$$ H(X_1, X_2, \\ldots, X_n) = \\sum H(X_i\\ \\vert\\ X_1, \\ldots, X_{i-1}) $$\n",
    "\n",
    "*INCOMPLETE* Show proof."
   ]
  },
  {
   "cell_type": "markdown",
   "execution_count": null,
   "metadata": {},
   "outputs": [],
   "source": [
    "## Relative Entropy\n",
    "\n",
    "First, we draw $n$ samples from $\\mathcal{N}(0., 1.)$"
   ]
  },
  {
   "cell_type": "code",
   "execution_count": 2,
   "metadata": {},
   "outputs": [],
   "source": [
    "from numpy.random import normal\n",
    "\n",
    "N = 1000\n",
    "samples = normal(size=N)"
   ]
  },
  {
   "cell_type": "markdown",
   "execution_count": null,
   "metadata": {},
   "outputs": [],
   "source": [
    "Then with a transformation $Y = X^2$, we compute the KL-divergence $D_{KL}(|X|, Y)$"
   ]
  }
 ]
}