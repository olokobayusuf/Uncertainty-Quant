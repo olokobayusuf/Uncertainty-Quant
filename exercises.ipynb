{
 "nbformat": 4,
 "nbformat_minor": 2,
 "metadata": {
  "language_info": {
   "name": "python",
   "codemirror_mode": {
    "name": "ipython",
    "version": 3
   },
   "version": "3.6.5-final"
  },
  "orig_nbformat": 2,
  "file_extension": ".py",
  "mimetype": "text/x-python",
  "name": "python",
  "npconvert_exporter": "python",
  "pygments_lexer": "ipython3",
  "version": 3,
  "kernelspec": {
   "name": "python36564bit19053807de3b44f894d4c8758c328f67",
   "display_name": "Python 3.6.5 64-bit"
  }
 },
 "cells": [
  {
   "cell_type": "markdown",
   "execution_count": null,
   "metadata": {},
   "outputs": [],
   "source": [
    "# Exercises"
   ]
  },
  {
   "cell_type": "markdown",
   "execution_count": null,
   "metadata": {},
   "outputs": [],
   "source": [
    "## Bernoulli Distribution\n",
    "1. What is the sample space of the Bernoulli distribution?\n",
    "\n",
    "$\\Omega = \\{ 0, 1 \\}$\n",
    "\n",
    "2. What is is corresponding probability measure?\n",
    "\n",
    "$\\mu$. **INCOMPLETE**"
   ]
  },
  {
   "cell_type": "markdown",
   "execution_count": null,
   "metadata": {},
   "outputs": [],
   "source": [
    "## Transformations on Random Variables\n",
    "\n",
    "3. Suppose $X$ is uniform on $[0, 2\\pi]$. Find the density of $Y = \\sin X$.\n",
    "\n",
    "4. Let $X_1$ and $X_2$ be two independent uniform distributions on $[0, 1]$.\n",
    "    - Find the density of $Y_1 = X_1 + X_2$\n",
    "\n",
    "    - Find the density of $Y_2 = X_1 - X_2$\n",
    "\n",
    "    - Find the density of $Y_3 = X_1 / X_2$\n",
    "\n",
    "    - Find the density of $Y_4 = \\max(X_1, X_2)$\n"
   ]
  },
  {
   "cell_type": "markdown",
   "execution_count": null,
   "metadata": {},
   "outputs": [],
   "source": [
    "## Expected Values and Moments\n",
    "\n",
    "5. Find the mean and variance of a Gaussian random variable $X$ with a density:\n",
    "$$ p(x) = \\frac{1}{\\sqrt{2 \\pi \\sigma^2}} \\exp{ \\left(- \\frac{(x - m)^2}{2 \\sigma^2 } \\right)} $$\n",
    "\n",
    "6. Find the mean of the Cauchy distribution:\n",
    "$$ p(x) = \\frac{1}{\\pi (1 + x^2)} $$\n",
    "\n",
    "7. Find the mean and variance of the Binomial distribution:\n",
    "$$ b(x; n, p) = \\begin{pmatrix} n \\\\ x \\end{pmatrix} p^x (1-p)^{n - x} $$\n",
    "\n",
    "8. Let $X$ be a random variable such that $\\mathbb{E}[|X|^m] \\leq AC^m$ for some positive constants $A$ and $C$, and all integers $m \\geq 0$. Show that $\\mu (|X| > C) = 0$."
   ]
  },
  {
   "cell_type": "markdown",
   "execution_count": null,
   "metadata": {},
   "outputs": [],
   "source": [
    "## Joint Probability and Independence\n",
    "9. Generate a sample of two random variables $X$ and $Y$ where $X$ and $Y$ are normal with a correlation $\\rho$."
   ]
  },
  {
   "cell_type": "code",
   "execution_count": 6,
   "metadata": {},
   "outputs": [
    {
     "name": "stdout",
     "output_type": "stream",
     "text": "0.3036813037660679\n"
    }
   ],
   "source": [
    "from numpy.random import normal\n",
    "\n",
    "x = normal()\n",
    "print(x)"
   ]
  },
  {
   "cell_type": "markdown",
   "execution_count": null,
   "metadata": {},
   "outputs": [],
   "source": [
    "## Conditional Probability and Conditional Expectation\n",
    "10. Let $X$ and $Y$ be two random variables with $\\mathbb{E}[Y] = m$ and $\\mathbb{E}[Y^2] < \\infty$.\n",
    "- Show that the constant $c$ that minimizes $\\mathbb{E}[(Y - c)^2]$ is $c  = m$.\n",
    "\n",
    "- Show that the random variable $f(X)$ that minimizes $\\mathbb{E}[(Y - f(X))^2\\ \\vert\\ X]$ is $f(X) = E[Y\\ \\vert\\ X]$.\n",
    "\n",
    "- Show that the random variable $f(X)$ that minimizes $\\mathbb{E}[(Y - f(X))^2]$ is also $f(X) = E[Y\\ \\vert\\ X]$.\n",
    "\n",
    "11. Will you consider a coin asymmetric if after 1000 tosses, the number of heads equals 600?"
   ]
  }
 ]
}