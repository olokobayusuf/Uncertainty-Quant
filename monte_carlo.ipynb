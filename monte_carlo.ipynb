{
 "nbformat": 4,
 "nbformat_minor": 2,
 "metadata": {
  "language_info": {
   "name": "python",
   "codemirror_mode": {
    "name": "ipython",
    "version": 3
   },
   "version": "3.6.5-final"
  },
  "orig_nbformat": 2,
  "file_extension": ".py",
  "mimetype": "text/x-python",
  "name": "python",
  "npconvert_exporter": "python",
  "pygments_lexer": "ipython3",
  "version": 3,
  "kernelspec": {
   "name": "python36564bit19053807de3b44f894d4c8758c328f67",
   "display_name": "Python 3.6.5 64-bit"
  }
 },
 "cells": [
  {
   "cell_type": "markdown",
   "metadata": {},
   "source": [
    "# Monte Carlo"
   ]
  },
  {
   "cell_type": "markdown",
   "metadata": {},
   "source": [
    "We want to calculate:\n",
    "$$p = \\int_2^{\\infty} \\frac{1}{\\pi (1 + x^2)} dx = 0.15$$\n",
    "\n",
    "Using Monte Carlo. We use a fixed number of points across all experiments:"
   ]
  },
  {
   "cell_type": "code",
   "execution_count": 96,
   "metadata": {},
   "outputs": [],
   "source": [
    "N = 10000"
   ]
  },
  {
   "cell_type": "markdown",
   "metadata": {},
   "source": [
    "Let us try some some estimators:\n",
    "\n",
    "1. $$\\hat{p}_1 = \\frac{1}{n} \\sum_i^n I(X_i > 2),\\ X \\sim \\textrm{Cauchy}$$"
   ]
  },
  {
   "cell_type": "code",
   "execution_count": 159,
   "metadata": {},
   "outputs": [
    {
     "name": "stdout",
     "output_type": "stream",
     "text": "Mean: 0.1465\nVariance: 2059.5451384825983\n"
    }
   ],
   "source": [
    "from numpy.random import standard_cauchy\n",
    "\n",
    "# Compute mean\n",
    "points = standard_cauchy(size=N)\n",
    "mean = (points > 2).sum() / N\n",
    "print(f\"Mean: {mean}\")\n",
    "\n",
    "# Compute variance\n",
    "variance = ((points - mean) ** 2).sum() / N\n",
    "print(f\"Variance: {variance}\")"
   ]
  },
  {
   "cell_type": "markdown",
   "metadata": {},
   "source": [
    "Running the above section multiple times, you will notice that the variance varies over a very large range. This suggests the unstable variance of the Cauchy distribution."
   ]
  },
  {
   "cell_type": "markdown",
   "metadata": {},
   "source": [
    "2. $$ \\hat{p}_2 = \\frac{1}{2n} \\sum_i^n I(\\vert X_i \\vert > 2),\\ X \\sim \\textrm{Cauchy} $$\n",
    "\n",
    "This estimator estimates the following:\n",
    "$$ p(x) = \\frac{1}{2} \\int_{-\\infty}^{-2} \\frac{1}{\\pi (1 + x^2)} dx + \\frac{1}{2} \\int_{2}^{\\infty} \\frac{1}{\\pi (1 + x^2)} dx $$\n"
   ]
  },
  {
   "cell_type": "code",
   "execution_count": 167,
   "metadata": {},
   "outputs": [
    {
     "name": "stdout",
     "output_type": "stream",
     "text": "Mean: 0.14735\nVariance: 266063.386701837\n"
    }
   ],
   "source": [
    "from numpy import abs\n",
    "\n",
    "# Compute mean\n",
    "points = standard_cauchy(size=N)\n",
    "mean = (abs(points) > 2).sum() / N / 2.\n",
    "print(f\"Mean: {mean}\")\n",
    "\n",
    "# Compute variance\n",
    "variance = ((points - mean) ** 2).sum() / N\n",
    "print(f\"Variance: {variance}\")"
   ]
  },
  {
   "cell_type": "markdown",
   "metadata": {},
   "source": [
    "Similar to estimator $\\hat{p}_1$, this estimator has very unstable variance."
   ]
  },
  {
   "cell_type": "markdown",
   "metadata": {},
   "source": [
    "3. $$ \\hat{p}_3 = \\frac{1}{2} - \\frac{1}{n} \\sum_i^n \\frac{2}{\\pi (1 + X_i)^2},\\ X \\sim \\mathcal{U}[0., 2.] $$"
   ]
  },
  {
   "cell_type": "code",
   "execution_count": 228,
   "metadata": {},
   "outputs": [
    {
     "name": "stdout",
     "output_type": "stream",
     "text": "Mean: 0.14512611871672004\nVariance: 1.0506108422727394\n"
    }
   ],
   "source": [
    "from numpy import pi\n",
    "from numpy.random import uniform\n",
    "\n",
    "# Compute mean\n",
    "points = uniform(low=0., high=2., size=N)\n",
    "mean = 0.5 - (2. / (pi * (1. + points ** 2))).sum() / N\n",
    "print(f\"Mean: {mean}\")\n",
    "\n",
    "# Compute variance\n",
    "variance = ((points - mean) ** 2).sum() / N\n",
    "print(f\"Variance: {variance}\")"
   ]
  },
  {
   "cell_type": "markdown",
   "metadata": {},
   "source": [
    "4. $$ \\hat{p}_4 = \\frac{1}{2n} \\sum_i^n \\frac{X_i^{-2}}{\\pi (1 + X_i^{-2})},\\ X \\sim \\mathcal{U}[0., 0.5] $$"
   ]
  },
  {
   "cell_type": "code",
   "execution_count": 250,
   "metadata": {},
   "outputs": [
    {
     "name": "stdout",
     "output_type": "stream",
     "text": "Mean: 0.14763444120002142\nVariance: 0.03104030658409656\n"
    }
   ],
   "source": [
    "from numpy import power\n",
    "\n",
    "# Compute mean\n",
    "points = uniform(low=0., high=0.5, size=N)\n",
    "points_inv_sqr = pow(points, -2.)\n",
    "mean = (points_inv_sqr / pi / (1 + points_inv_sqr)).sum() / N / 2.\n",
    "print(f\"Mean: {mean}\")\n",
    "\n",
    "# Compute variance\n",
    "variance = ((points - mean) ** 2).sum() / N\n",
    "print(f\"Variance: {variance}\")"
   ]
  },
  {
   "cell_type": "markdown",
   "metadata": {},
   "source": [
    "## Normal-Cauchy Bayes Estimator"
   ]
  },
  {
   "cell_type": "markdown",
   "metadata": {},
   "source": [
    "We wish to use Monte Carlo to estimate the integral of:\n",
    "\n",
    "$$ \\delta(x) = \\frac{\\int_{-\\infty}^{\\infty} \\frac{\\theta}{1 + \\theta^2} \\exp \\left( -\\frac{(x - \\theta)^2}{2} \\right) d\\theta}{\\int_{-\\infty}^{\\infty} \\frac{1}{1 + \\theta^2} \\exp \\left( -\\frac{(x - \\theta)^2}{2} \\right) d\\theta} $$\n",
    "\n",
    "To do so, take advantage of the fact that using Monte Carlo, we can estimate the integral of one distribution using samples from the other. Hence we estimate the integral of the Cauchy using samples from the Gaussian."
   ]
  },
  {
   "cell_type": "code",
   "execution_count": 29,
   "metadata": {},
   "outputs": [
    {
     "name": "stdout",
     "output_type": "stream",
     "text": "Integral: 1.1990657163920064\n"
    }
   ],
   "source": [
    "from numpy.random import normal\n",
    "\n",
    "def normal_cauchy_bayes_estimator (x, sample_count=100):\n",
    "    gaussian_samples = normal(size=sample_count, loc=x)\n",
    "    cauchy_numerator = (gaussian_samples / (1 + gaussian_samples ** 2)).sum() / sample_count\n",
    "    cauchy_denominator = (1. / (1 + gaussian_samples ** 2)).sum() / sample_count\n",
    "    return cauchy_numerator / cauchy_denominator\n",
    "\n",
    "# Test\n",
    "integral = normal_cauchy_bayes_estimator(2., 100)\n",
    "print(f\"Integral: {integral}\")"
   ]
  },
  {
   "cell_type": "markdown",
   "metadata": {},
   "source": [
    "Now we compute the standard error of our Monte-Carlo estimator:"
   ]
  },
  {
   "cell_type": "code",
   "execution_count": 37,
   "metadata": {},
   "outputs": [
    {
     "name": "stdout",
     "output_type": "stream",
     "text": "Standard error of n=100 is 0.011890286201855024\nStandard error of n=1000 is 0.0037723054458248537\nStandard error of n=10000 is 0.001176623779211139\n"
    }
   ],
   "source": [
    "from scipy.stats import sem\n",
    "\n",
    "# Define a function to compute standard error of our sample\n",
    "def compute_standard_error (sample_count):\n",
    "    integrals = [normal_cauchy_bayes_estimator(2.) for i in range(sample_count)]\n",
    "    return sem(integrals)\n",
    "\n",
    "print(f\"Standard error of n=100 is {compute_standard_error(100)}\")\n",
    "print(f\"Standard error of n=1000 is {compute_standard_error(1000)}\")\n",
    "print(f\"Standard error of n=10000 is {compute_standard_error(10000)}\")"
   ]
  },
  {
   "cell_type": "markdown",
   "metadata": {},
   "source": [
    "## Expected Value of Transformed Gaussian\n",
    "We want to show that\n",
    "$$ \\mathbb{E}[e^{-X^2}] = \\frac{1}{\\sqrt{2\\sigma^2 + 1}},\\ X \\sim \\mathcal{N}(0., \\sigma^2) $$\n",
    "\n",
    "Using the Law Of The Unconcious Statistician, we have:\n",
    "$$ \\mathbb{E}[e^{-X^2}] = \\int_{-\\infty}^{\\infty} e^{-x^2} \\mathcal{N}(0., \\sigma^2) dx = \\int_{-\\infty}^{\\infty} \\exp(-x^2) \\frac{1}{\\sqrt{2 \\pi \\sigma^2}} \\exp \\left({\\frac{-x^2}{2\\sigma^2}} \\right) dx $$\n",
    "\n",
    "$$ = \\int_{-\\infty}^{\\infty} \\frac{1}{\\sqrt{2 \\pi \\sigma^2}} \\exp \\left( \\frac{-x^2 (2 \\sigma^2 + 1)}{2 \\sigma^2} \\right) dx = \\int_{-\\infty}^{\\infty} \\frac{1}{\\sqrt{2 \\pi \\sigma^2}} \\exp \\left( \\frac{-x^2}{2 \\sigma^2} \\right) \\exp \\left( \\frac{2 \\sigma^2 + 1}{2 \\sigma^2} \\right) $$\n",
    "\n",
    "$$ = \\exp \\left( \\frac{2 \\sigma^2 + 1}{2\\sigma^2} \\right) \\int_{-\\infty}^{\\infty} \\frac{1}{\\sqrt{2 \\pi \\sigma^2}} \\exp \\left( \\frac{-x^2}{2 \\sigma^2} \\right) dx $$\n",
    "\n",
    "But since the second term is the Gaussian density, we know that the integral must be 1.0. Hence, we have:\n",
    "$$ \\exp \\left( \\frac{2 \\sigma^2 + 1}{2\\sigma^2} \\right) $$"
   ]
  },
  {
   "cell_type": "markdown",
   "metadata": {},
   "source": [
    "## Particle Filtering\n"
   ]
  },
  {
   "cell_type": "markdown",
   "metadata": {},
   "source": [
    "## n-D Markov Chain Monte Carlo\n",
    "Given some *unknown* $n$-dimensional multivariate density, we want to estimate it using Markov Chain Monte Carlo. We structure the task as an optimization on some `target` density, starting the Markov Chain at some `initial` value $x_0 \\in \\mathbb{R}^n$, and using an $n$-D multivariate Gaussian proposal density with variance `variance`, centered on the current state of the chain:"
   ]
  },
  {
   "cell_type": "code",
   "execution_count": 16,
   "metadata": {},
   "outputs": [],
   "source": [
    "from numpy import zeros\n",
    "from numpy.random import uniform, randn\n",
    "\n",
    "def estimate_density_mcmc (target_density, initial_value, proposal_variance, iterations=5000):\n",
    "    # Pre-allocate the markov chain\n",
    "    markov_chain = zeros((iterations, *initial_value.shape))\n",
    "    # Add initial value to the chain\n",
    "    markov_chain[0] = initial_value\n",
    "    accepted_count = 0.\n",
    "    # Build chain\n",
    "    for i in range(iterations - 1):\n",
    "        # Get a point from the proposal density\n",
    "        current_point = markov_chain[i]\n",
    "        proposal_point = current_point + randn(*current_point.shape) * proposal_variance\n",
    "        # Compute the acceptance ratio\n",
    "        current_value, proposal_value = target_density(current_point), target_density(proposal_point)\n",
    "        acceptance_ratio = min(1., proposal_value / current_value)\n",
    "        # Accept or reject with Metropolis-Hastings heuristic\n",
    "        accept = uniform() < acceptance_ratio\n",
    "        accepted_count += accept\n",
    "        markov_chain[i + 1] = proposal_point if accept else current_point\n",
    "    # Return the chain and the acceptance rate\n",
    "    acceptance_rate = accepted_count / iterations\n",
    "    return markov_chain, acceptance_rate"
   ]
  },
  {
   "cell_type": "markdown",
   "metadata": {},
   "source": [
    "First, let's test on a univariate proposal density:"
   ]
  },
  {
   "cell_type": "code",
   "execution_count": 17,
   "metadata": {},
   "outputs": [
    {
     "name": "stdout",
     "output_type": "stream",
     "text": "Acceptance rate: [0.1506]\n"
    },
    {
     "data": {
      "image/png": "[encoded data removed]",
      "image/svg+xml": "<?xml version=\"1.0\" encoding=\"utf-8\" standalone=\"no\"?>\n<!DOCTYPE svg PUBLIC \"-//W3C//DTD SVG 1.1//EN\"\n  \"http://www.w3.org/Graphics/SVG/1.1/DTD/svg11.dtd\">\n<!-- Created with matplotlib (https://matplotlib.org/) -->\n<svg height=\"248.518125pt\" version=\"1.1\" viewBox=\"0 0 378.465625 248.518125\" width=\"378.465625pt\" xmlns=\"http://www.w3.org/2000/svg\" xmlns:xlink=\"http://www.w3.org/1999/xlink\">\n <defs>\n  <style type=\"text/css\">\n*{stroke-linecap:butt;stroke-linejoin:round;}\n  </style>\n </defs>\n <g id=\"figure_1\">\n  <g id=\"patch_1\">\n   <path d=\"M 0 248.518125 \nL 378.465625 248.518125 \nL 378.465625 0 \nL 0 0 \nz\n\" style=\"fill:none;\"/>\n  </g>\n  <g id=\"axes_1\">\n   <g id=\"patch_2\">\n    <path d=\"M 36.465625 224.64 \nL 371.265625 224.64 \nL 371.265625 7.2 \nL 36.465625 7.2 \nz\n\" style=\"fill:#ffffff;\"/>\n   </g>\n   <g id=\"patch_3\">\n    <path clip-path=\"url(#pe456df9647)\" d=\"M 51.683807 224.64 \nL 57.77108 224.64 \nL 57.77108 214.497026 \nL 51.683807 214.497026 \nz\n\" style=\"fill:#1f77b4;\"/>\n   </g>\n   <g id=\"patch_4\">\n    <path clip-path=\"url(#pe456df9647)\" d=\"M 57.77108 224.64 \nL 63.858352 224.64 \nL 63.858352 207.31242 \nL 57.77108 207.31242 \nz\n\" style=\"fill:#1f77b4;\"/>\n   </g>\n   <g id=\"patch_5\">\n    <path clip-path=\"url(#pe456df9647)\" d=\"M 63.858352 224.64 \nL 69.945625 224.64 \nL 69.945625 166.317901 \nL 63.858352 166.317901 \nz\n\" style=\"fill:#1f77b4;\"/>\n   </g>\n   <g id=\"patch_6\">\n    <path clip-path=\"url(#pe456df9647)\" d=\"M 69.945625 224.64 \nL 76.032898 224.64 \nL 76.032898 128.281749 \nL 69.945625 128.281749 \nz\n\" style=\"fill:#1f77b4;\"/>\n   </g>\n   <g id=\"patch_7\">\n    <path clip-path=\"url(#pe456df9647)\" d=\"M 76.032898 224.64 \nL 82.12017 224.64 \nL 82.12017 83.060991 \nL 76.032898 83.060991 \nz\n\" style=\"fill:#1f77b4;\"/>\n   </g>\n   <g id=\"patch_8\">\n    <path clip-path=\"url(#pe456df9647)\" d=\"M 82.12017 224.64 \nL 88.207443 224.64 \nL 88.207443 61.084548 \nL 82.12017 61.084548 \nz\n\" style=\"fill:#1f77b4;\"/>\n   </g>\n   <g id=\"patch_9\">\n    <path clip-path=\"url(#pe456df9647)\" d=\"M 88.207443 224.64 \nL 94.294716 224.64 \nL 94.294716 124.478134 \nL 88.207443 124.478134 \nz\n\" style=\"fill:#1f77b4;\"/>\n   </g>\n   <g id=\"patch_10\">\n    <path clip-path=\"url(#pe456df9647)\" d=\"M 94.294716 224.64 \nL 100.381989 224.64 \nL 100.381989 61.507172 \nL 94.294716 61.507172 \nz\n\" style=\"fill:#1f77b4;\"/>\n   </g>\n   <g id=\"patch_11\">\n    <path clip-path=\"url(#pe456df9647)\" d=\"M 100.381989 224.64 \nL 106.469261 224.64 \nL 106.469261 102.924315 \nL 100.381989 102.924315 \nz\n\" style=\"fill:#1f77b4;\"/>\n   </g>\n   <g id=\"patch_12\">\n    <path clip-path=\"url(#pe456df9647)\" d=\"M 106.469261 224.64 \nL 112.556534 224.64 \nL 112.556534 166.317901 \nL 106.469261 166.317901 \nz\n\" style=\"fill:#1f77b4;\"/>\n   </g>\n   <g id=\"patch_13\">\n    <path clip-path=\"url(#pe456df9647)\" d=\"M 112.556534 224.64 \nL 118.643807 224.64 \nL 118.643807 173.079883 \nL 112.556534 173.079883 \nz\n\" style=\"fill:#1f77b4;\"/>\n   </g>\n   <g id=\"patch_14\">\n    <path clip-path=\"url(#pe456df9647)\" d=\"M 118.643807 224.64 \nL 124.73108 224.64 \nL 124.73108 207.31242 \nL 118.643807 207.31242 \nz\n\" style=\"fill:#1f77b4;\"/>\n   </g>\n   <g id=\"patch_15\">\n    <path clip-path=\"url(#pe456df9647)\" d=\"M 124.73108 224.64 \nL 130.818352 224.64 \nL 130.818352 212.806531 \nL 124.73108 212.806531 \nz\n\" style=\"fill:#1f77b4;\"/>\n   </g>\n   <g id=\"patch_16\">\n    <path clip-path=\"url(#pe456df9647)\" d=\"M 130.818352 224.64 \nL 136.905625 224.64 \nL 136.905625 224.64 \nL 130.818352 224.64 \nz\n\" style=\"fill:#1f77b4;\"/>\n   </g>\n   <g id=\"patch_17\">\n    <path clip-path=\"url(#pe456df9647)\" d=\"M 136.905625 224.64 \nL 142.992898 224.64 \nL 142.992898 223.794752 \nL 136.905625 223.794752 \nz\n\" style=\"fill:#1f77b4;\"/>\n   </g>\n   <g id=\"patch_18\">\n    <path clip-path=\"url(#pe456df9647)\" d=\"M 142.992898 224.64 \nL 149.08017 224.64 \nL 149.08017 224.64 \nL 142.992898 224.64 \nz\n\" style=\"fill:#1f77b4;\"/>\n   </g>\n   <g id=\"patch_19\">\n    <path clip-path=\"url(#pe456df9647)\" d=\"M 149.08017 224.64 \nL 155.167443 224.64 \nL 155.167443 224.64 \nL 149.08017 224.64 \nz\n\" style=\"fill:#1f77b4;\"/>\n   </g>\n   <g id=\"patch_20\">\n    <path clip-path=\"url(#pe456df9647)\" d=\"M 155.167443 224.64 \nL 161.254716 224.64 \nL 161.254716 224.64 \nL 155.167443 224.64 \nz\n\" style=\"fill:#1f77b4;\"/>\n   </g>\n   <g id=\"patch_21\">\n    <path clip-path=\"url(#pe456df9647)\" d=\"M 161.254716 224.64 \nL 167.341989 224.64 \nL 167.341989 224.64 \nL 161.254716 224.64 \nz\n\" style=\"fill:#1f77b4;\"/>\n   </g>\n   <g id=\"patch_22\">\n    <path clip-path=\"url(#pe456df9647)\" d=\"M 167.341989 224.64 \nL 173.429261 224.64 \nL 173.429261 224.64 \nL 167.341989 224.64 \nz\n\" style=\"fill:#1f77b4;\"/>\n   </g>\n   <g id=\"patch_23\">\n    <path clip-path=\"url(#pe456df9647)\" d=\"M 173.429261 224.64 \nL 179.516534 224.64 \nL 179.516534 224.64 \nL 173.429261 224.64 \nz\n\" style=\"fill:#1f77b4;\"/>\n   </g>\n   <g id=\"patch_24\">\n    <path clip-path=\"url(#pe456df9647)\" d=\"M 179.516534 224.64 \nL 185.603807 224.64 \nL 185.603807 224.64 \nL 179.516534 224.64 \nz\n\" style=\"fill:#1f77b4;\"/>\n   </g>\n   <g id=\"patch_25\">\n    <path clip-path=\"url(#pe456df9647)\" d=\"M 185.603807 224.64 \nL 191.69108 224.64 \nL 191.69108 224.64 \nL 185.603807 224.64 \nz\n\" style=\"fill:#1f77b4;\"/>\n   </g>\n   <g id=\"patch_26\">\n    <path clip-path=\"url(#pe456df9647)\" d=\"M 191.69108 224.64 \nL 197.778352 224.64 \nL 197.778352 224.217376 \nL 191.69108 224.217376 \nz\n\" style=\"fill:#1f77b4;\"/>\n   </g>\n   <g id=\"patch_27\">\n    <path clip-path=\"url(#pe456df9647)\" d=\"M 197.778352 224.64 \nL 203.865625 224.64 \nL 203.865625 224.64 \nL 197.778352 224.64 \nz\n\" style=\"fill:#1f77b4;\"/>\n   </g>\n   <g id=\"patch_28\">\n    <path clip-path=\"url(#pe456df9647)\" d=\"M 203.865625 224.64 \nL 209.952898 224.64 \nL 209.952898 224.64 \nL 203.865625 224.64 \nz\n\" style=\"fill:#1f77b4;\"/>\n   </g>\n   <g id=\"patch_29\">\n    <path clip-path=\"url(#pe456df9647)\" d=\"M 209.952898 224.64 \nL 216.04017 224.64 \nL 216.04017 224.64 \nL 209.952898 224.64 \nz\n\" style=\"fill:#1f77b4;\"/>\n   </g>\n   <g id=\"patch_30\">\n    <path clip-path=\"url(#pe456df9647)\" d=\"M 216.04017 224.64 \nL 222.127443 224.64 \nL 222.127443 224.64 \nL 216.04017 224.64 \nz\n\" style=\"fill:#1f77b4;\"/>\n   </g>\n   <g id=\"patch_31\">\n    <path clip-path=\"url(#pe456df9647)\" d=\"M 222.127443 224.64 \nL 228.214716 224.64 \nL 228.214716 224.64 \nL 222.127443 224.64 \nz\n\" style=\"fill:#1f77b4;\"/>\n   </g>\n   <g id=\"patch_32\">\n    <path clip-path=\"url(#pe456df9647)\" d=\"M 228.214716 224.64 \nL 234.301989 224.64 \nL 234.301989 224.64 \nL 228.214716 224.64 \nz\n\" style=\"fill:#1f77b4;\"/>\n   </g>\n   <g id=\"patch_33\">\n    <path clip-path=\"url(#pe456df9647)\" d=\"M 234.301989 224.64 \nL 240.389261 224.64 \nL 240.389261 224.217376 \nL 234.301989 224.217376 \nz\n\" style=\"fill:#1f77b4;\"/>\n   </g>\n   <g id=\"patch_34\">\n    <path clip-path=\"url(#pe456df9647)\" d=\"M 240.389261 224.64 \nL 246.476534 224.64 \nL 246.476534 224.64 \nL 240.389261 224.64 \nz\n\" style=\"fill:#1f77b4;\"/>\n   </g>\n   <g id=\"patch_35\">\n    <path clip-path=\"url(#pe456df9647)\" d=\"M 246.476534 224.64 \nL 252.563807 224.64 \nL 252.563807 224.64 \nL 246.476534 224.64 \nz\n\" style=\"fill:#1f77b4;\"/>\n   </g>\n   <g id=\"patch_36\">\n    <path clip-path=\"url(#pe456df9647)\" d=\"M 252.563807 224.64 \nL 258.65108 224.64 \nL 258.65108 224.64 \nL 252.563807 224.64 \nz\n\" style=\"fill:#1f77b4;\"/>\n   </g>\n   <g id=\"patch_37\">\n    <path clip-path=\"url(#pe456df9647)\" d=\"M 258.65108 224.64 \nL 264.738352 224.64 \nL 264.738352 216.610146 \nL 258.65108 216.610146 \nz\n\" style=\"fill:#1f77b4;\"/>\n   </g>\n   <g id=\"patch_38\">\n    <path clip-path=\"url(#pe456df9647)\" d=\"M 264.738352 224.64 \nL 270.825625 224.64 \nL 270.825625 217.03277 \nL 264.738352 217.03277 \nz\n\" style=\"fill:#1f77b4;\"/>\n   </g>\n   <g id=\"patch_39\">\n    <path clip-path=\"url(#pe456df9647)\" d=\"M 270.825625 224.64 \nL 276.912898 224.64 \nL 276.912898 187.449096 \nL 270.825625 187.449096 \nz\n\" style=\"fill:#1f77b4;\"/>\n   </g>\n   <g id=\"patch_40\">\n    <path clip-path=\"url(#pe456df9647)\" d=\"M 276.912898 224.64 \nL 283.00017 224.64 \nL 283.00017 139.269971 \nL 276.912898 139.269971 \nz\n\" style=\"fill:#1f77b4;\"/>\n   </g>\n   <g id=\"patch_41\">\n    <path clip-path=\"url(#pe456df9647)\" d=\"M 283.00017 224.64 \nL 289.087443 224.64 \nL 289.087443 122.365015 \nL 283.00017 122.365015 \nz\n\" style=\"fill:#1f77b4;\"/>\n   </g>\n   <g id=\"patch_42\">\n    <path clip-path=\"url(#pe456df9647)\" d=\"M 289.087443 224.64 \nL 295.174716 224.64 \nL 295.174716 130.394869 \nL 289.087443 130.394869 \nz\n\" style=\"fill:#1f77b4;\"/>\n   </g>\n   <g id=\"patch_43\">\n    <path clip-path=\"url(#pe456df9647)\" d=\"M 295.174716 224.64 \nL 301.261989 224.64 \nL 301.261989 17.554286 \nL 295.174716 17.554286 \nz\n\" style=\"fill:#1f77b4;\"/>\n   </g>\n   <g id=\"patch_44\">\n    <path clip-path=\"url(#pe456df9647)\" d=\"M 301.261989 224.64 \nL 307.349261 224.64 \nL 307.349261 40.375977 \nL 301.261989 40.375977 \nz\n\" style=\"fill:#1f77b4;\"/>\n   </g>\n   <g id=\"patch_45\">\n    <path clip-path=\"url(#pe456df9647)\" d=\"M 307.349261 224.64 \nL 313.436534 224.64 \nL 313.436534 62.775044 \nL 307.349261 62.775044 \nz\n\" style=\"fill:#1f77b4;\"/>\n   </g>\n   <g id=\"patch_46\">\n    <path clip-path=\"url(#pe456df9647)\" d=\"M 313.436534 224.64 \nL 319.523807 224.64 \nL 319.523807 108.84105 \nL 313.436534 108.84105 \nz\n\" style=\"fill:#1f77b4;\"/>\n   </g>\n   <g id=\"patch_47\">\n    <path clip-path=\"url(#pe456df9647)\" d=\"M 319.523807 224.64 \nL 325.61108 224.64 \nL 325.61108 173.079883 \nL 319.523807 173.079883 \nz\n\" style=\"fill:#1f77b4;\"/>\n   </g>\n   <g id=\"patch_48\">\n    <path clip-path=\"url(#pe456df9647)\" d=\"M 325.61108 224.64 \nL 331.698352 224.64 \nL 331.698352 198.437318 \nL 325.61108 198.437318 \nz\n\" style=\"fill:#1f77b4;\"/>\n   </g>\n   <g id=\"patch_49\">\n    <path clip-path=\"url(#pe456df9647)\" d=\"M 331.698352 224.64 \nL 337.785625 224.64 \nL 337.785625 215.764898 \nL 331.698352 215.764898 \nz\n\" style=\"fill:#1f77b4;\"/>\n   </g>\n   <g id=\"patch_50\">\n    <path clip-path=\"url(#pe456df9647)\" d=\"M 337.785625 224.64 \nL 343.872898 224.64 \nL 343.872898 218.723265 \nL 337.785625 218.723265 \nz\n\" style=\"fill:#1f77b4;\"/>\n   </g>\n   <g id=\"patch_51\">\n    <path clip-path=\"url(#pe456df9647)\" d=\"M 343.872898 224.64 \nL 349.96017 224.64 \nL 349.96017 221.259009 \nL 343.872898 221.259009 \nz\n\" style=\"fill:#1f77b4;\"/>\n   </g>\n   <g id=\"patch_52\">\n    <path clip-path=\"url(#pe456df9647)\" d=\"M 349.96017 224.64 \nL 356.047443 224.64 \nL 356.047443 224.217376 \nL 349.96017 224.217376 \nz\n\" style=\"fill:#1f77b4;\"/>\n   </g>\n   <g id=\"matplotlib.axis_1\">\n    <g id=\"xtick_1\">\n     <g id=\"line2d_1\">\n      <defs>\n       <path d=\"M 0 0 \nL 0 3.5 \n\" id=\"m4e4a9e18fa\" style=\"stroke:#000000;stroke-width:0.8;\"/>\n      </defs>\n      <g>\n       <use style=\"stroke:#000000;stroke-width:0.8;\" x=\"68.120854\" xlink:href=\"#m4e4a9e18fa\" y=\"224.64\"/>\n      </g>\n     </g>\n     <g id=\"text_1\">\n      <!-- −6 -->\n      <defs>\n       <path d=\"M 10.59375 35.5 \nL 73.1875 35.5 \nL 73.1875 27.203125 \nL 10.59375 27.203125 \nz\n\" id=\"DejaVuSans-8722\"/>\n       <path d=\"M 33.015625 40.375 \nQ 26.375 40.375 22.484375 35.828125 \nQ 18.609375 31.296875 18.609375 23.390625 \nQ 18.609375 15.53125 22.484375 10.953125 \nQ 26.375 6.390625 33.015625 6.390625 \nQ 39.65625 6.390625 43.53125 10.953125 \nQ 47.40625 15.53125 47.40625 23.390625 \nQ 47.40625 31.296875 43.53125 35.828125 \nQ 39.65625 40.375 33.015625 40.375 \nz\nM 52.59375 71.296875 \nL 52.59375 62.3125 \nQ 48.875 64.0625 45.09375 64.984375 \nQ 41.3125 65.921875 37.59375 65.921875 \nQ 27.828125 65.921875 22.671875 59.328125 \nQ 17.53125 52.734375 16.796875 39.40625 \nQ 19.671875 43.65625 24.015625 45.921875 \nQ 28.375 48.1875 33.59375 48.1875 \nQ 44.578125 48.1875 50.953125 41.515625 \nQ 57.328125 34.859375 57.328125 23.390625 \nQ 57.328125 12.15625 50.6875 5.359375 \nQ 44.046875 -1.421875 33.015625 -1.421875 \nQ 20.359375 -1.421875 13.671875 8.265625 \nQ 6.984375 17.96875 6.984375 36.375 \nQ 6.984375 53.65625 15.1875 63.9375 \nQ 23.390625 74.21875 37.203125 74.21875 \nQ 40.921875 74.21875 44.703125 73.484375 \nQ 48.484375 72.75 52.59375 71.296875 \nz\n\" id=\"DejaVuSans-54\"/>\n      </defs>\n      <g transform=\"translate(60.74976 239.238437)scale(0.1 -0.1)\">\n       <use xlink:href=\"#DejaVuSans-8722\"/>\n       <use x=\"83.789062\" xlink:href=\"#DejaVuSans-54\"/>\n      </g>\n     </g>\n    </g>\n    <g id=\"xtick_2\">\n     <g id=\"line2d_2\">\n      <g>\n       <use style=\"stroke:#000000;stroke-width:0.8;\" x=\"110.595264\" xlink:href=\"#m4e4a9e18fa\" y=\"224.64\"/>\n      </g>\n     </g>\n     <g id=\"text_2\">\n      <!-- −4 -->\n      <defs>\n       <path d=\"M 37.796875 64.3125 \nL 12.890625 25.390625 \nL 37.796875 25.390625 \nz\nM 35.203125 72.90625 \nL 47.609375 72.90625 \nL 47.609375 25.390625 \nL 58.015625 25.390625 \nL 58.015625 17.1875 \nL 47.609375 17.1875 \nL 47.609375 0 \nL 37.796875 0 \nL 37.796875 17.1875 \nL 4.890625 17.1875 \nL 4.890625 26.703125 \nz\n\" id=\"DejaVuSans-52\"/>\n      </defs>\n      <g transform=\"translate(103.22417 239.238437)scale(0.1 -0.1)\">\n       <use xlink:href=\"#DejaVuSans-8722\"/>\n       <use x=\"83.789062\" xlink:href=\"#DejaVuSans-52\"/>\n      </g>\n     </g>\n    </g>\n    <g id=\"xtick_3\">\n     <g id=\"line2d_3\">\n      <g>\n       <use style=\"stroke:#000000;stroke-width:0.8;\" x=\"153.069674\" xlink:href=\"#m4e4a9e18fa\" y=\"224.64\"/>\n      </g>\n     </g>\n     <g id=\"text_3\">\n      <!-- −2 -->\n      <defs>\n       <path d=\"M 19.1875 8.296875 \nL 53.609375 8.296875 \nL 53.609375 0 \nL 7.328125 0 \nL 7.328125 8.296875 \nQ 12.9375 14.109375 22.625 23.890625 \nQ 32.328125 33.6875 34.8125 36.53125 \nQ 39.546875 41.84375 41.421875 45.53125 \nQ 43.3125 49.21875 43.3125 52.78125 \nQ 43.3125 58.59375 39.234375 62.25 \nQ 35.15625 65.921875 28.609375 65.921875 \nQ 23.96875 65.921875 18.8125 64.3125 \nQ 13.671875 62.703125 7.8125 59.421875 \nL 7.8125 69.390625 \nQ 13.765625 71.78125 18.9375 73 \nQ 24.125 74.21875 28.421875 74.21875 \nQ 39.75 74.21875 46.484375 68.546875 \nQ 53.21875 62.890625 53.21875 53.421875 \nQ 53.21875 48.921875 51.53125 44.890625 \nQ 49.859375 40.875 45.40625 35.40625 \nQ 44.1875 33.984375 37.640625 27.21875 \nQ 31.109375 20.453125 19.1875 8.296875 \nz\n\" id=\"DejaVuSans-50\"/>\n      </defs>\n      <g transform=\"translate(145.69858 239.238437)scale(0.1 -0.1)\">\n       <use xlink:href=\"#DejaVuSans-8722\"/>\n       <use x=\"83.789062\" xlink:href=\"#DejaVuSans-50\"/>\n      </g>\n     </g>\n    </g>\n    <g id=\"xtick_4\">\n     <g id=\"line2d_4\">\n      <g>\n       <use style=\"stroke:#000000;stroke-width:0.8;\" x=\"195.544084\" xlink:href=\"#m4e4a9e18fa\" y=\"224.64\"/>\n      </g>\n     </g>\n     <g id=\"text_4\">\n      <!-- 0 -->\n      <defs>\n       <path d=\"M 31.78125 66.40625 \nQ 24.171875 66.40625 20.328125 58.90625 \nQ 16.5 51.421875 16.5 36.375 \nQ 16.5 21.390625 20.328125 13.890625 \nQ 24.171875 6.390625 31.78125 6.390625 \nQ 39.453125 6.390625 43.28125 13.890625 \nQ 47.125 21.390625 47.125 36.375 \nQ 47.125 51.421875 43.28125 58.90625 \nQ 39.453125 66.40625 31.78125 66.40625 \nz\nM 31.78125 74.21875 \nQ 44.046875 74.21875 50.515625 64.515625 \nQ 56.984375 54.828125 56.984375 36.375 \nQ 56.984375 17.96875 50.515625 8.265625 \nQ 44.046875 -1.421875 31.78125 -1.421875 \nQ 19.53125 -1.421875 13.0625 8.265625 \nQ 6.59375 17.96875 6.59375 36.375 \nQ 6.59375 54.828125 13.0625 64.515625 \nQ 19.53125 74.21875 31.78125 74.21875 \nz\n\" id=\"DejaVuSans-48\"/>\n      </defs>\n      <g transform=\"translate(192.362834 239.238437)scale(0.1 -0.1)\">\n       <use xlink:href=\"#DejaVuSans-48\"/>\n      </g>\n     </g>\n    </g>\n    <g id=\"xtick_5\">\n     <g id=\"line2d_5\">\n      <g>\n       <use style=\"stroke:#000000;stroke-width:0.8;\" x=\"238.018495\" xlink:href=\"#m4e4a9e18fa\" y=\"224.64\"/>\n      </g>\n     </g>\n     <g id=\"text_5\">\n      <!-- 2 -->\n      <g transform=\"translate(234.837245 239.238437)scale(0.1 -0.1)\">\n       <use xlink:href=\"#DejaVuSans-50\"/>\n      </g>\n     </g>\n    </g>\n    <g id=\"xtick_6\">\n     <g id=\"line2d_6\">\n      <g>\n       <use style=\"stroke:#000000;stroke-width:0.8;\" x=\"280.492905\" xlink:href=\"#m4e4a9e18fa\" y=\"224.64\"/>\n      </g>\n     </g>\n     <g id=\"text_6\">\n      <!-- 4 -->\n      <g transform=\"translate(277.311655 239.238437)scale(0.1 -0.1)\">\n       <use xlink:href=\"#DejaVuSans-52\"/>\n      </g>\n     </g>\n    </g>\n    <g id=\"xtick_7\">\n     <g id=\"line2d_7\">\n      <g>\n       <use style=\"stroke:#000000;stroke-width:0.8;\" x=\"322.967315\" xlink:href=\"#m4e4a9e18fa\" y=\"224.64\"/>\n      </g>\n     </g>\n     <g id=\"text_7\">\n      <!-- 6 -->\n      <g transform=\"translate(319.786065 239.238437)scale(0.1 -0.1)\">\n       <use xlink:href=\"#DejaVuSans-54\"/>\n      </g>\n     </g>\n    </g>\n    <g id=\"xtick_8\">\n     <g id=\"line2d_8\">\n      <g>\n       <use style=\"stroke:#000000;stroke-width:0.8;\" x=\"365.441725\" xlink:href=\"#m4e4a9e18fa\" y=\"224.64\"/>\n      </g>\n     </g>\n     <g id=\"text_8\">\n      <!-- 8 -->\n      <defs>\n       <path d=\"M 31.78125 34.625 \nQ 24.75 34.625 20.71875 30.859375 \nQ 16.703125 27.09375 16.703125 20.515625 \nQ 16.703125 13.921875 20.71875 10.15625 \nQ 24.75 6.390625 31.78125 6.390625 \nQ 38.8125 6.390625 42.859375 10.171875 \nQ 46.921875 13.96875 46.921875 20.515625 \nQ 46.921875 27.09375 42.890625 30.859375 \nQ 38.875 34.625 31.78125 34.625 \nz\nM 21.921875 38.8125 \nQ 15.578125 40.375 12.03125 44.71875 \nQ 8.5 49.078125 8.5 55.328125 \nQ 8.5 64.0625 14.71875 69.140625 \nQ 20.953125 74.21875 31.78125 74.21875 \nQ 42.671875 74.21875 48.875 69.140625 \nQ 55.078125 64.0625 55.078125 55.328125 \nQ 55.078125 49.078125 51.53125 44.71875 \nQ 48 40.375 41.703125 38.8125 \nQ 48.828125 37.15625 52.796875 32.3125 \nQ 56.78125 27.484375 56.78125 20.515625 \nQ 56.78125 9.90625 50.3125 4.234375 \nQ 43.84375 -1.421875 31.78125 -1.421875 \nQ 19.734375 -1.421875 13.25 4.234375 \nQ 6.78125 9.90625 6.78125 20.515625 \nQ 6.78125 27.484375 10.78125 32.3125 \nQ 14.796875 37.15625 21.921875 38.8125 \nz\nM 18.3125 54.390625 \nQ 18.3125 48.734375 21.84375 45.5625 \nQ 25.390625 42.390625 31.78125 42.390625 \nQ 38.140625 42.390625 41.71875 45.5625 \nQ 45.3125 48.734375 45.3125 54.390625 \nQ 45.3125 60.0625 41.71875 63.234375 \nQ 38.140625 66.40625 31.78125 66.40625 \nQ 25.390625 66.40625 21.84375 63.234375 \nQ 18.3125 60.0625 18.3125 54.390625 \nz\n\" id=\"DejaVuSans-56\"/>\n      </defs>\n      <g transform=\"translate(362.260475 239.238437)scale(0.1 -0.1)\">\n       <use xlink:href=\"#DejaVuSans-56\"/>\n      </g>\n     </g>\n    </g>\n   </g>\n   <g id=\"matplotlib.axis_2\">\n    <g id=\"ytick_1\">\n     <g id=\"line2d_9\">\n      <defs>\n       <path d=\"M 0 0 \nL -3.5 0 \n\" id=\"m283631cc92\" style=\"stroke:#000000;stroke-width:0.8;\"/>\n      </defs>\n      <g>\n       <use style=\"stroke:#000000;stroke-width:0.8;\" x=\"36.465625\" xlink:href=\"#m283631cc92\" y=\"224.64\"/>\n      </g>\n     </g>\n     <g id=\"text_9\">\n      <!-- 0.00 -->\n      <defs>\n       <path d=\"M 10.6875 12.40625 \nL 21 12.40625 \nL 21 0 \nL 10.6875 0 \nz\n\" id=\"DejaVuSans-46\"/>\n      </defs>\n      <g transform=\"translate(7.2 228.439219)scale(0.1 -0.1)\">\n       <use xlink:href=\"#DejaVuSans-48\"/>\n       <use x=\"63.623047\" xlink:href=\"#DejaVuSans-46\"/>\n       <use x=\"95.410156\" xlink:href=\"#DejaVuSans-48\"/>\n       <use x=\"159.033203\" xlink:href=\"#DejaVuSans-48\"/>\n      </g>\n     </g>\n    </g>\n    <g id=\"ytick_2\">\n     <g id=\"line2d_10\">\n      <g>\n       <use style=\"stroke:#000000;stroke-width:0.8;\" x=\"36.465625\" xlink:href=\"#m283631cc92\" y=\"194.355566\"/>\n      </g>\n     </g>\n     <g id=\"text_10\">\n      <!-- 0.05 -->\n      <defs>\n       <path d=\"M 10.796875 72.90625 \nL 49.515625 72.90625 \nL 49.515625 64.59375 \nL 19.828125 64.59375 \nL 19.828125 46.734375 \nQ 21.96875 47.46875 24.109375 47.828125 \nQ 26.265625 48.1875 28.421875 48.1875 \nQ 40.625 48.1875 47.75 41.5 \nQ 54.890625 34.8125 54.890625 23.390625 \nQ 54.890625 11.625 47.5625 5.09375 \nQ 40.234375 -1.421875 26.90625 -1.421875 \nQ 22.3125 -1.421875 17.546875 -0.640625 \nQ 12.796875 0.140625 7.71875 1.703125 \nL 7.71875 11.625 \nQ 12.109375 9.234375 16.796875 8.0625 \nQ 21.484375 6.890625 26.703125 6.890625 \nQ 35.15625 6.890625 40.078125 11.328125 \nQ 45.015625 15.765625 45.015625 23.390625 \nQ 45.015625 31 40.078125 35.4375 \nQ 35.15625 39.890625 26.703125 39.890625 \nQ 22.75 39.890625 18.8125 39.015625 \nQ 14.890625 38.140625 10.796875 36.28125 \nz\n\" id=\"DejaVuSans-53\"/>\n      </defs>\n      <g transform=\"translate(7.2 198.154784)scale(0.1 -0.1)\">\n       <use xlink:href=\"#DejaVuSans-48\"/>\n       <use x=\"63.623047\" xlink:href=\"#DejaVuSans-46\"/>\n       <use x=\"95.410156\" xlink:href=\"#DejaVuSans-48\"/>\n       <use x=\"159.033203\" xlink:href=\"#DejaVuSans-53\"/>\n      </g>\n     </g>\n    </g>\n    <g id=\"ytick_3\">\n     <g id=\"line2d_11\">\n      <g>\n       <use style=\"stroke:#000000;stroke-width:0.8;\" x=\"36.465625\" xlink:href=\"#m283631cc92\" y=\"164.071131\"/>\n      </g>\n     </g>\n     <g id=\"text_11\">\n      <!-- 0.10 -->\n      <defs>\n       <path d=\"M 12.40625 8.296875 \nL 28.515625 8.296875 \nL 28.515625 63.921875 \nL 10.984375 60.40625 \nL 10.984375 69.390625 \nL 28.421875 72.90625 \nL 38.28125 72.90625 \nL 38.28125 8.296875 \nL 54.390625 8.296875 \nL 54.390625 0 \nL 12.40625 0 \nz\n\" id=\"DejaVuSans-49\"/>\n      </defs>\n      <g transform=\"translate(7.2 167.87035)scale(0.1 -0.1)\">\n       <use xlink:href=\"#DejaVuSans-48\"/>\n       <use x=\"63.623047\" xlink:href=\"#DejaVuSans-46\"/>\n       <use x=\"95.410156\" xlink:href=\"#DejaVuSans-49\"/>\n       <use x=\"159.033203\" xlink:href=\"#DejaVuSans-48\"/>\n      </g>\n     </g>\n    </g>\n    <g id=\"ytick_4\">\n     <g id=\"line2d_12\">\n      <g>\n       <use style=\"stroke:#000000;stroke-width:0.8;\" x=\"36.465625\" xlink:href=\"#m283631cc92\" y=\"133.786697\"/>\n      </g>\n     </g>\n     <g id=\"text_12\">\n      <!-- 0.15 -->\n      <g transform=\"translate(7.2 137.585915)scale(0.1 -0.1)\">\n       <use xlink:href=\"#DejaVuSans-48\"/>\n       <use x=\"63.623047\" xlink:href=\"#DejaVuSans-46\"/>\n       <use x=\"95.410156\" xlink:href=\"#DejaVuSans-49\"/>\n       <use x=\"159.033203\" xlink:href=\"#DejaVuSans-53\"/>\n      </g>\n     </g>\n    </g>\n    <g id=\"ytick_5\">\n     <g id=\"line2d_13\">\n      <g>\n       <use style=\"stroke:#000000;stroke-width:0.8;\" x=\"36.465625\" xlink:href=\"#m283631cc92\" y=\"103.502262\"/>\n      </g>\n     </g>\n     <g id=\"text_13\">\n      <!-- 0.20 -->\n      <g transform=\"translate(7.2 107.301481)scale(0.1 -0.1)\">\n       <use xlink:href=\"#DejaVuSans-48\"/>\n       <use x=\"63.623047\" xlink:href=\"#DejaVuSans-46\"/>\n       <use x=\"95.410156\" xlink:href=\"#DejaVuSans-50\"/>\n       <use x=\"159.033203\" xlink:href=\"#DejaVuSans-48\"/>\n      </g>\n     </g>\n    </g>\n    <g id=\"ytick_6\">\n     <g id=\"line2d_14\">\n      <g>\n       <use style=\"stroke:#000000;stroke-width:0.8;\" x=\"36.465625\" xlink:href=\"#m283631cc92\" y=\"73.217828\"/>\n      </g>\n     </g>\n     <g id=\"text_14\">\n      <!-- 0.25 -->\n      <g transform=\"translate(7.2 77.017046)scale(0.1 -0.1)\">\n       <use xlink:href=\"#DejaVuSans-48\"/>\n       <use x=\"63.623047\" xlink:href=\"#DejaVuSans-46\"/>\n       <use x=\"95.410156\" xlink:href=\"#DejaVuSans-50\"/>\n       <use x=\"159.033203\" xlink:href=\"#DejaVuSans-53\"/>\n      </g>\n     </g>\n    </g>\n    <g id=\"ytick_7\">\n     <g id=\"line2d_15\">\n      <g>\n       <use style=\"stroke:#000000;stroke-width:0.8;\" x=\"36.465625\" xlink:href=\"#m283631cc92\" y=\"42.933393\"/>\n      </g>\n     </g>\n     <g id=\"text_15\">\n      <!-- 0.30 -->\n      <defs>\n       <path d=\"M 40.578125 39.3125 \nQ 47.65625 37.796875 51.625 33 \nQ 55.609375 28.21875 55.609375 21.1875 \nQ 55.609375 10.40625 48.1875 4.484375 \nQ 40.765625 -1.421875 27.09375 -1.421875 \nQ 22.515625 -1.421875 17.65625 -0.515625 \nQ 12.796875 0.390625 7.625 2.203125 \nL 7.625 11.71875 \nQ 11.71875 9.328125 16.59375 8.109375 \nQ 21.484375 6.890625 26.8125 6.890625 \nQ 36.078125 6.890625 40.9375 10.546875 \nQ 45.796875 14.203125 45.796875 21.1875 \nQ 45.796875 27.640625 41.28125 31.265625 \nQ 36.765625 34.90625 28.71875 34.90625 \nL 20.21875 34.90625 \nL 20.21875 43.015625 \nL 29.109375 43.015625 \nQ 36.375 43.015625 40.234375 45.921875 \nQ 44.09375 48.828125 44.09375 54.296875 \nQ 44.09375 59.90625 40.109375 62.90625 \nQ 36.140625 65.921875 28.71875 65.921875 \nQ 24.65625 65.921875 20.015625 65.03125 \nQ 15.375 64.15625 9.8125 62.3125 \nL 9.8125 71.09375 \nQ 15.4375 72.65625 20.34375 73.4375 \nQ 25.25 74.21875 29.59375 74.21875 \nQ 40.828125 74.21875 47.359375 69.109375 \nQ 53.90625 64.015625 53.90625 55.328125 \nQ 53.90625 49.265625 50.4375 45.09375 \nQ 46.96875 40.921875 40.578125 39.3125 \nz\n\" id=\"DejaVuSans-51\"/>\n      </defs>\n      <g transform=\"translate(7.2 46.732612)scale(0.1 -0.1)\">\n       <use xlink:href=\"#DejaVuSans-48\"/>\n       <use x=\"63.623047\" xlink:href=\"#DejaVuSans-46\"/>\n       <use x=\"95.410156\" xlink:href=\"#DejaVuSans-51\"/>\n       <use x=\"159.033203\" xlink:href=\"#DejaVuSans-48\"/>\n      </g>\n     </g>\n    </g>\n    <g id=\"ytick_8\">\n     <g id=\"line2d_16\">\n      <g>\n       <use style=\"stroke:#000000;stroke-width:0.8;\" x=\"36.465625\" xlink:href=\"#m283631cc92\" y=\"12.648959\"/>\n      </g>\n     </g>\n     <g id=\"text_16\">\n      <!-- 0.35 -->\n      <g transform=\"translate(7.2 16.448178)scale(0.1 -0.1)\">\n       <use xlink:href=\"#DejaVuSans-48\"/>\n       <use x=\"63.623047\" xlink:href=\"#DejaVuSans-46\"/>\n       <use x=\"95.410156\" xlink:href=\"#DejaVuSans-51\"/>\n       <use x=\"159.033203\" xlink:href=\"#DejaVuSans-53\"/>\n      </g>\n     </g>\n    </g>\n   </g>\n   <g id=\"patch_53\">\n    <path d=\"M 36.465625 224.64 \nL 36.465625 7.2 \n\" style=\"fill:none;stroke:#000000;stroke-linecap:square;stroke-linejoin:miter;stroke-width:0.8;\"/>\n   </g>\n   <g id=\"patch_54\">\n    <path d=\"M 371.265625 224.64 \nL 371.265625 7.2 \n\" style=\"fill:none;stroke:#000000;stroke-linecap:square;stroke-linejoin:miter;stroke-width:0.8;\"/>\n   </g>\n   <g id=\"patch_55\">\n    <path d=\"M 36.465625 224.64 \nL 371.265625 224.64 \n\" style=\"fill:none;stroke:#000000;stroke-linecap:square;stroke-linejoin:miter;stroke-width:0.8;\"/>\n   </g>\n   <g id=\"patch_56\">\n    <path d=\"M 36.465625 7.2 \nL 371.265625 7.2 \n\" style=\"fill:none;stroke:#000000;stroke-linecap:square;stroke-linejoin:miter;stroke-width:0.8;\"/>\n   </g>\n  </g>\n </g>\n <defs>\n  <clipPath id=\"pe456df9647\">\n   <rect height=\"217.44\" width=\"334.8\" x=\"36.465625\" y=\"7.2\"/>\n  </clipPath>\n </defs>\n</svg>\n",
      "text/plain": "<Figure size 432x288 with 1 Axes>"
     },
     "metadata": {
      "needs_background": "light"
     },
     "output_type": "display_data"
    }
   ],
   "source": [
    "%matplotlib inline\n",
    "\n",
    "from matplotlib import pyplot as plt\n",
    "from numpy import exp\n",
    "\n",
    "# 1D target density from example code, simple bi-modal Gaussian\n",
    "def target_1d (x):\n",
    "    return exp(-(x-5) ** 2) + exp(-(x+5) ** 2)\n",
    "\n",
    "# Estimate and plot\n",
    "estimated_density_1d, acceptance_rate_1d = estimate_density_mcmc(target_1d, zeros(1,), 10)\n",
    "print(f\"Acceptance rate: {acceptance_rate_1d}\")\n",
    "plt.hist(estimated_density_1d, 50, density=True)\n",
    "plt.show()"
   ]
  },
  {
   "cell_type": "markdown",
   "metadata": {},
   "source": [
    "Now let us test it on some random multi-variate proposal density. First, we estimate the density using MCMC, then to sample from it, we build a Gaussian Kernel Density Estimator. We then draw samples, from the KDE and the target density, and compute the KL-divergence between them."
   ]
  },
  {
   "cell_type": "code",
   "execution_count": 32,
   "metadata": {},
   "outputs": [
    {
     "name": "stdout",
     "output_type": "stream",
     "text": "KL divergence: 0.016382390878423532\n"
    }
   ],
   "source": [
    "from numpy import append, array, meshgrid, linspace\n",
    "from scipy.stats import entropy, gaussian_kde, multivariate_normal\n",
    "\n",
    "# 2D Gaussian centered on zero, with covariance\n",
    "def target_2d (x):\n",
    "    MEAN = zeros(2,)\n",
    "    COVARIANCE = array([\n",
    "        [1., .5],\n",
    "        [.5, 1.]\n",
    "    ])\n",
    "    return multivariate_normal.pdf(x, mean=MEAN, cov=COVARIANCE)\n",
    "\n",
    "# Estimate using Gaussian proposal density with variance 5.\n",
    "initial_value = array([-4., 4.])\n",
    "estimated_density_2d, acceptance_rate_2d = estimate_density_mcmc(target_2d, initial_value, 3., iterations=10000)\n",
    "\n",
    "# Build a density from the markov chain using a Gaussian KDE\n",
    "estimator_2d = gaussian_kde(estimated_density_2d.T)\n",
    "\n",
    "# Create a sample grid so we can sample from both densities\n",
    "GRID_EXTENT = 50\n",
    "points_X, points_Y = meshgrid(linspace(-2., 2., GRID_EXTENT), linspace(-2., 2., GRID_EXTENT))\n",
    "sample_grid = append(points_X.reshape(-1,1), points_Y.reshape(-1,1), axis=1)\n",
    "\n",
    "# Now we sample from both the true target and estimated densities\n",
    "sample_grid = create_sample_grid(grid_extent=50)\n",
    "true_samples = target_2d(sample_grid)\n",
    "estimator_samples = estimator_2d(sample_grid.T) # This wants [d, N] so we transpose\n",
    "\n",
    "# Compute KL-div\n",
    "kl_divergence  = entropy(true_samples, estimator_samples)\n",
    "print(f\"KL divergence: {kl_divergence}\")"
   ]
  },
  {
   "cell_type": "markdown",
   "metadata": {},
   "source": [
    "### Monte Carlo Convergence Testing\n",
    "In order to check if our Markov Chain converges to the underlying density, we can check the density of an estimator constructed by removing the first half of the chain:"
   ]
  },
  {
   "cell_type": "code",
   "execution_count": 33,
   "metadata": {},
   "outputs": [
    {
     "name": "stdout",
     "output_type": "stream",
     "text": "KL-divergence: 0.016382390878423532\n"
    }
   ],
   "source": [
    "# Build an estimator from the later half of the markov chain\n",
    "truncated_density_2d = estimated_density_2d[:len(estimated_density_2d) // 2]\n",
    "truncated_estimator_2d = gaussian_kde(truncated_density_2d.T)\n",
    "\n",
    "# Sample\n",
    "sample_grid = create_sample_grid(grid_extent=50)\n",
    "truncated_estimator_samples = estimator_2d(sample_grid.T) # This wants [d, N] so we transpose\n",
    "\n",
    "# Compute KL-div\n",
    "kl_divergence = entropy(true_samples, truncated_estimator_samples)\n",
    "print(f\"KL-divergence: {kl_divergence}\")"
   ]
  },
  {
   "cell_type": "markdown",
   "metadata": {},
   "source": [
    "Finally, we compute the KL-divergence between the estimator and the truncated estimator:"
   ]
  },
  {
   "cell_type": "code",
   "execution_count": 34,
   "metadata": {},
   "outputs": [
    {
     "name": "stdout",
     "output_type": "stream",
     "text": "KL-divergence: 0.0\n"
    }
   ],
   "source": [
    "# Compute KL-div\n",
    "kl_divergence = entropy(estimator_samples, truncated_estimator_samples)\n",
    "print(f\"KL-divergence: {kl_divergence}\")"
   ]
  },
  {
   "cell_type": "markdown",
   "metadata": {},
   "source": [
    "It appears that with 10,000 steps, the Markov Chain converges very well. The KL-divergence between the estimator and the truncated estimator is almost always zero, meaning that the first half of the chain adds no new information about the shape of the underlying distribution."
   ]
  },
  {
   "cell_type": "markdown",
   "metadata": {},
   "source": [
    "## Monte Carlo Optimization\n",
    "We can use MCMC to perform global optimization within some hypercube in a given parameter space. It is a very similar to creating a markov chain for estimating a target density. Let us define an MCMC optimizer which optimizes a given objective `objective` by searching through a hypercube $[a, b]^n$ in some parameter space."
   ]
  },
  {
   "cell_type": "code",
   "execution_count": 6,
   "metadata": {},
   "outputs": [],
   "source": [
    "from numpy import argmin, clip, exp\n",
    "from numpy.random import normal, uniform\n",
    "\n",
    "def minimize_mcmc (objective, initial_value, lower_bound, upper_bound, proposal_variance, iterations=5000):\n",
    "    # Modify the objective to be strictly positive\n",
    "    old_objective = objective\n",
    "    objective = lambda x: exp(old_objective(x))\n",
    "    # Pre-allocate the markov chain for both the samples and their objective values\n",
    "    points = zeros((iterations, *initial_value.shape))\n",
    "    points[0] = initial_value\n",
    "    initial_response = objective(initial_value)\n",
    "    responses = zeros((iterations, *initial_response.shape))   \n",
    "    responses[0] = initial_response \n",
    "    # Build chain\n",
    "    accepted_count = 0.\n",
    "    for i in range(iterations - 1):\n",
    "        # Get a point from the proposal density\n",
    "        current_point = points[i]\n",
    "        proposal_point = normal(loc=current_point, scale=proposal_variance, size=current_point.shape)\n",
    "        proposal_point = clip(proposal_point, lower_bound, upper_bound)\n",
    "        # Get the current objective value\n",
    "        current_response = responses[i]\n",
    "        proposal_response = objective(proposal_point)\n",
    "        # Accept or reject with Metropolis-Hastings heuristic\n",
    "        acceptance_ratio = min(1., current_response / proposal_response)\n",
    "        accept = uniform() < acceptance_ratio\n",
    "        accepted_count += accept\n",
    "        points[i + 1] = proposal_point if accept else current_point\n",
    "        responses[i + 1] = proposal_response if accept else current_response\n",
    "    # Return the maximizer and the acceptance rate\n",
    "    minimizer = points[argmin(responses)]\n",
    "    acceptance_rate = accepted_count / iterations\n",
    "    return minimizer, acceptance_rate"
   ]
  },
  {
   "cell_type": "markdown",
   "metadata": {},
   "source": [
    "Now we test it on the following objective function:\n",
    "$$ J(x, y) = (x \\sin(20y) + y \\sin(20x))^2 \\cdot \\cosh(x \\sin(10x)) + (x \\cos(10y) - y \\sin (10x))^2 \\cdot \\cosh (y \\cos (20y)) $$"
   ]
  },
  {
   "cell_type": "code",
   "execution_count": 13,
   "metadata": {},
   "outputs": [
    {
     "name": "stdout",
     "output_type": "stream",
     "text": "Found minimum at [-0.00149418  0.06472144] with acceptance rate 0.5188\n"
    }
   ],
   "source": [
    "from numpy import array, cos, cosh, sin, zeros\n",
    "\n",
    "# Define J(\\theta) from above\n",
    "def objective (theta):\n",
    "    x, y = theta\n",
    "    return (x * sin(20 * y) + y * sin(20 * x)) ** 2 * cosh(x * sin(10 * x)) + (x * cos(10 * y) - y * sin(10 * x)) ** 2 * cosh(y * cos(20 * y))\n",
    "\n",
    "# Optimize using MCMC\n",
    "INITIAL_VALUE = array([0.5, 0.5])\n",
    "LOWER_BOUND = array([-1., -1.]) # Per-parameter bound\n",
    "UPPER_BOUND = array([1., 1.]) # Per-parameter bound\n",
    "minimum, acceptance_rate = minimize_mcmc(objective, INITIAL_VALUE, LOWER_BOUND, UPPER_BOUND, 1., iterations=5000)\n",
    "print(f\"Found minimum at {minimum} with acceptance rate {acceptance_rate}\")"
   ]
  },
  {
   "cell_type": "code",
   "execution_count": null,
   "metadata": {},
   "outputs": [],
   "source": []
  }
 ]
}